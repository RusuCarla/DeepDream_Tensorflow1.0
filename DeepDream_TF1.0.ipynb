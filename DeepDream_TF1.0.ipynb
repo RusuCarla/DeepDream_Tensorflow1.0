{
 "cells": [
  {
   "cell_type": "markdown",
   "metadata": {},
   "source": [
    "# DeepDream with Tensorflow\n",
    "\n",
    "inspired by [Magnus Erik Hvass Pedersen's DeepDream Tutorial](https://github.com/Hvass-Labs/TensorFlow-Tutorials) <br> and the [Tensorflow DeepDream Tutorial](https://www.tensorflow.org/tutorials/generative/deepdream) "
   ]
  },
  {
   "cell_type": "markdown",
   "metadata": {},
   "source": [
    "## Concept\n",
    "\n",
    "DeepDream is a computer vision program created by Alexander Mordvintsev. It uses a convolutional neural network to enhance patterns in images. The effect is similar to that of pareidolia, which refers to the tendency to incorrectly interpret objects. For example, seeing shapes in clouds, human faces where there are none, etc.\n",
    "\n",
    "The program works by passing an image through a CNN, selecting a layer in the network and applying the gradient of the layer in order to amplify the patterns detected. Then, the resulting image is passed through the CNN again. This process is done iteratively, such that at each iteration the emergent pattern is further defined."
   ]
  },
  {
   "cell_type": "markdown",
   "metadata": {
    "colab_type": "text",
    "id": "xu2SVpFJjmJr"
   },
   "source": [
    "## Imported libraries"
   ]
  },
  {
   "cell_type": "code",
   "execution_count": null,
   "metadata": {},
   "outputs": [],
   "source": [
    "%matplotlib inline\n",
    "import matplotlib.pyplot as plt\n",
    "import tensorflow as tf\n",
    "import numpy as np\n",
    "import random\n",
    "import math\n",
    "import utility\n",
    "from IPython.display import Image, display\n",
    "\n",
    "# Image manipulation.\n",
    "import PIL.Image\n",
    "from scipy.ndimage.filters import gaussian_filter"
   ]
  },
  {
   "cell_type": "markdown",
   "metadata": {},
   "source": [
    "This was developed using Python 3.5.2 (Anaconda) and TensorFlow version:"
   ]
  },
  {
   "cell_type": "code",
   "execution_count": null,
   "metadata": {},
   "outputs": [],
   "source": [
    "tf.__version__"
   ]
  },
  {
   "cell_type": "markdown",
   "metadata": {
    "colab_type": "text",
    "id": "ILvNKvMvc2n5"
   },
   "source": [
    "## CNN model  used"
   ]
  },
  {
   "cell_type": "markdown",
   "metadata": {},
   "source": [
    "The Inception5h (V1) model was chosen as it reportedly yields better results and accepts images of any size as input. Any other CNN model can be used as well, with the corresponding modifications (the layers differ)."
   ]
  },
  {
   "cell_type": "markdown",
   "metadata": {},
   "source": [
    "The model can be downloaded from tensorflow. A default directory to save the data-files is created if it does not exist."
   ]
  },
  {
   "cell_type": "code",
   "execution_count": null,
   "metadata": {},
   "outputs": [],
   "source": [
    "import inception5h\n",
    "# inception.data_dir = 'inception/5h/'\n",
    "inception5h.maybe_download()"
   ]
  },
  {
   "cell_type": "markdown",
   "metadata": {},
   "source": [
    "The model is loaded."
   ]
  },
  {
   "cell_type": "code",
   "execution_count": null,
   "metadata": {},
   "outputs": [],
   "source": [
    "model = inception5h.Inception5h()"
   ]
  },
  {
   "cell_type": "markdown",
   "metadata": {},
   "source": [
    "The Inception5h model has many layers that can be used for DeepDreaming. A list of the 12 most commonly used layers is available."
   ]
  },
  {
   "cell_type": "code",
   "execution_count": null,
   "metadata": {
    "scrolled": true
   },
   "outputs": [],
   "source": [
    "len(model.layer_tensors)"
   ]
  },
  {
   "cell_type": "markdown",
   "metadata": {},
   "source": [
    "Each layer is trained to see specific features. Lower-level layers see simple patterns such as lines and edges and higher-level layers see more complex things such as animals. Examples of layer visualizations are available at [this](https://github.com/ProGamerGov/Protobuf-Dreamer/wiki/Interesting-Layers-And-Channels) repository.\n",
    "\n",
    "layer 1: colors\\\n",
    "layer 2: waves\\\n",
    "layer 3: lines\\\n",
    "layer 4: boxes\\\n",
    "layer 5: circles\\\n",
    "layer 6: eyes\\\n",
    "layer 7: faces, more eyes\\\n",
    "layer 8: dogs, fury animals, worms, reptiles\\\n",
    "layer 9: fish, frogs/reptilian eyes\\\n",
    "layer 10: monkeys, lizards, snakes, ducks, butterflies\\\n",
    "layer 11: birds, insects\\\n",
    "layer 12: hot air balloons, complex structures"
   ]
  },
  {
   "cell_type": "code",
   "execution_count": null,
   "metadata": {},
   "outputs": [],
   "source": [
    "layer_tensors = model.layer_tensors\n",
    "#layer_tensors\n",
    "\n",
    "layer_names = model.layer_names\n",
    "layer_names"
   ]
  },
  {
   "cell_type": "markdown",
   "metadata": {},
   "source": [
    "## DeepDream Algorithm"
   ]
  },
  {
   "cell_type": "markdown",
   "metadata": {},
   "source": [
    "### Tiled gradient"
   ]
  },
  {
   "cell_type": "markdown",
   "metadata": {},
   "source": [
    "Large input images take a toll on memory usage and take a long time to be computed. An optimization technique is to split the image into tiles, then compute the gradient for each tile.\n",
    "\n",
    "This results in hard edges between tiles. A way to deal with this is to choose tiles randomly at each iteration, such that no seams become visible."
   ]
  },
  {
   "cell_type": "markdown",
   "metadata": {},
   "source": [
    "A helper-function for determining an appropriate tile-size is provided."
   ]
  },
  {
   "cell_type": "code",
   "execution_count": null,
   "metadata": {},
   "outputs": [],
   "source": [
    "def get_tile_size(num_pixels, tile_size=400):\n",
    "    \"\"\"\n",
    "    num_pixels is the number of pixels in a dimension of the image.\n",
    "    tile_size is the desired tile-size.\n",
    "    \"\"\"\n",
    "\n",
    "    # Get possible number of tiles (at least 1)\n",
    "    num_tiles = max(1, int(round(num_pixels / tile_size)))\n",
    "    \n",
    "    # The actual tile-size.\n",
    "    actual_tile_size = math.ceil(num_pixels / num_tiles)\n",
    "    \n",
    "    return actual_tile_size"
   ]
  },
  {
   "cell_type": "markdown",
   "metadata": {},
   "source": [
    "This helper-function computes the gradient for an input image. The image is split into tiles and the gradient is calculated for each tile. The tiles are chosen randomly to avoid visible seams / lines in the final DeepDream image."
   ]
  },
  {
   "cell_type": "code",
   "execution_count": null,
   "metadata": {},
   "outputs": [],
   "source": [
    "def tiled_gradient(gradient, image, tile_size=400):\n",
    "    # Initialize the image gradients to zero.\n",
    "    grad = np.zeros_like(image)\n",
    "\n",
    "    # Get x and y dimensions.\n",
    "    x, y, _ = image.shape\n",
    "\n",
    "    # Tile-size for the x-axis.\n",
    "    x_tile_size = get_tile_size(num_pixels=x, tile_size=tile_size)\n",
    "\n",
    "    # Tile-size for the y-axis.\n",
    "    y_tile_size = get_tile_size(num_pixels=y, tile_size=tile_size)\n",
    "\n",
    "    # Random start-position for the tiles on the x-axis between -3/4 and \n",
    "    # -1/4 of the tile-size. If the tiles are smaller than 1/4 of the image\n",
    "    # the gradients are noisy.\n",
    "    x_start = random.randint(-3*(x_tile_size // 4), -(x_tile_size // 4))\n",
    "\n",
    "    while x_start < x:\n",
    "        \n",
    "        x_end = x_start + x_tile_size\n",
    "        \n",
    "        # Ensure the tile's start- and end-positions are valid.\n",
    "        x_start_lim = max(x_start, 0)\n",
    "        x_end_lim = min(x_start + x_tile_size, x)\n",
    "\n",
    "        # Random start-position for the tiles on the y-axis.\n",
    "        # The random value is between -3/4 and -1/4 of the tile-size.\n",
    "        y_start = random.randint(-3*(y_tile_size // 4), -(y_tile_size // 4))\n",
    "\n",
    "        while y_start < y:\n",
    "\n",
    "            y_end = y_start + y_tile_size\n",
    "            \n",
    "            # Ensure the tile's start- and end-positions are valid.\n",
    "            y_start_lim = max(y_start, 0)\n",
    "            y_end_lim = min(y_start + y_tile_size, y)\n",
    "\n",
    "            # Get the image-tile.\n",
    "            img_tile = image[x_start_lim:x_end_lim,\n",
    "                             y_start_lim:y_end_lim, :]\n",
    "\n",
    "            # Create a feed-dict with the image-tile.\n",
    "            feed_dict = model.create_feed_dict(image=img_tile)\n",
    "\n",
    "            # Use TensorFlow to calculate the gradient-value.\n",
    "            g = session.run(gradient, feed_dict=feed_dict)\n",
    "\n",
    "            # Normalize the gradient for the tile. This is\n",
    "            # necessary because the tiles may have very different\n",
    "            # values. Normalizing gives a more coherent gradient.\n",
    "            g /= (np.std(g) + 1e-8)\n",
    "\n",
    "            # Store the tile's gradient at the appropriate location.\n",
    "            grad[x_start_lim:x_end_lim,\n",
    "                 y_start_lim:y_end_lim, :] = g\n",
    "            \n",
    "            # Advance the start-position for the y-axis.\n",
    "            y_start = y_end\n",
    "\n",
    "        # Advance the start-position for the x-axis.\n",
    "        x_start = x_end\n",
    "\n",
    "    return grad"
   ]
  },
  {
   "cell_type": "markdown",
   "metadata": {},
   "source": [
    "### Gradient ascent.\n",
    "\n",
    "This function calculates the gradient of the given layer of the model with regard to the input image. The gradient is then added to the input image so the mean value of the layer-tensor is increased. This process is repeated a number of times and amplifies whatever patterns the Inception model sees in the input image."
   ]
  },
  {
   "cell_type": "markdown",
   "metadata": {},
   "source": [
    "Helper-function to get the gradient of the chosen layer."
   ]
  },
  {
   "cell_type": "code",
   "execution_count": null,
   "metadata": {},
   "outputs": [],
   "source": [
    "def get_layer_gradient(layer_tensor):\n",
    "    \n",
    "    return model.get_gradient(layer_tensor)"
   ]
  },
  {
   "cell_type": "code",
   "execution_count": null,
   "metadata": {},
   "outputs": [],
   "source": [
    "def gradient_ascent(layer_tensor, image,\n",
    "                   num_iterations=10, step_size=3.0, tile_size=400,\n",
    "                   show_gradient=False, color=False):\n",
    "    \"\"\"\n",
    "    Parameters:\n",
    "    layer_tensor: Tensor that will be maximized\n",
    "    image: Input image used as the starting point.\n",
    "    num_iterations: Number of optimization iterations to perform.\n",
    "    step_size: Scale for each step of the gradient ascent.\n",
    "    tile_size: Size of the tiles when calculating the gradient.\n",
    "    show_gradient: Plot the gradient in each iteration.\n",
    "    color: Let algorithm modify initial colors.\n",
    "    \"\"\"\n",
    "\n",
    "    # Copy the image so we don't overwrite the original image.\n",
    "    img = image.copy()\n",
    "    \n",
    "    print(\"Image before:\")\n",
    "    utility.plot_image(img)\n",
    "\n",
    "    print(\"Processing image: \", end=\"\")\n",
    "    \n",
    "    gradient = model.get_gradient(layer_tensor)\n",
    "    \n",
    "    for i in range(num_iterations):\n",
    "        # Compute the gradient for the current image.\n",
    "        # The gradient is used to enhance features detected by the chosen layer.\n",
    "        grad = tiled_gradient(gradient=gradient, image=img, tile_size=tile_size)\n",
    "        \n",
    "        # Apply Gaussian filters to blur the image for better results.\n",
    "        # Values may be changed; other filters can be applied as well.\n",
    "        \n",
    "        # sigma - blur amount in increasing order\n",
    "        sigma = (i * 4.0) / num_iterations + 0.5\n",
    "        \n",
    "        # keep original colours by blurring the colour-channel\n",
    "        if color:\n",
    "            grad_smooth1 = gaussian_filter(grad, sigma=(sigma, sigma, 0.0))\n",
    "            grad_smooth2 = gaussian_filter(grad, sigma=(sigma*2, sigma*2, 0.0))\n",
    "            grad_smooth3 = gaussian_filter(grad, sigma=(sigma*0.5, sigma*0.5, 0.0))\n",
    "        # or don't blur the colour channel and allow colours to be changed by the gradient\n",
    "        else:\n",
    "            grad_smooth1 = gaussian_filter(grad, sigma=sigma)\n",
    "            grad_smooth2 = gaussian_filter(grad, sigma=sigma*2)\n",
    "            grad_smooth3 = gaussian_filter(grad, sigma=sigma*0.5)\n",
    "        \n",
    "        # combine the filtered gradients to obtain a nice looking image\n",
    "        grad = (grad_smooth1 + grad_smooth2 + grad_smooth3)\n",
    "\n",
    "        # Scale the step-size according to the gradient-values.\n",
    "        step_size_scaled = step_size / (np.std(grad) + 1e-8)\n",
    "\n",
    "        # Update the image by following the gradient.\n",
    "        img += grad * step_size_scaled\n",
    "\n",
    "        if show_gradient:\n",
    "            # Print statistics for the gradient.\n",
    "            msg = \"Gradient min: {0:>9.6f}, max: {1:>9.6f}, stepsize: {2:>9.2f}\"\n",
    "            print(msg.format(grad.min(), grad.max(), step_size_scaled))\n",
    "\n",
    "            # Plot the gradient.\n",
    "            utility.plot_gradient(grad)\n",
    "        else:\n",
    "            # Otherwise show a little progress-indicator.\n",
    "            print(\". \", end=\"\")\n",
    "\n",
    "    print()\n",
    "    print(\"Image after:\")\n",
    "    utility.plot_image(img)\n",
    "    \n",
    "    return img"
   ]
  },
  {
   "cell_type": "markdown",
   "metadata": {},
   "source": [
    "### Taking it up an octave.\n",
    "\n",
    "Using `gradient_ascent()` on large inputs results in small patterns, all of the same granularity, low resolution and noisiness. \n",
    "\n",
    "This function downsamples the image several times and applies `gradient_ascent()` to each of these scales. This technique addresses all of the above-mentioned issues and speeds up the computation. The first iteration will produce a big pattern, while the following iterations will add additional details."
   ]
  },
  {
   "cell_type": "code",
   "execution_count": null,
   "metadata": {},
   "outputs": [],
   "source": [
    "def recursive_optimize(layer_tensor, image,\n",
    "                       num_repeats=4, rescale_factor=0.7, blend=0.2,\n",
    "                       num_iterations=10, step_size=3.0,\n",
    "                       tile_size=400, color=False):\n",
    "    \"\"\"\n",
    "    Parameters:\n",
    "    gradient: Gradient of the chosen layer\n",
    "    image: Input image used as the starting point.\n",
    "    rescale_factor: Downscaling factor for the image.\n",
    "    num_repeats: Number of times to downscale the image.\n",
    "    blend: Factor for blending the original and processed images.\n",
    "\n",
    "    Parameters passed to gradient_ascent():\n",
    "    num_iterations: Number of optimization iterations to perform.\n",
    "    step_size: Scale for each step of the gradient ascent.\n",
    "    tile_size: Size of the tiles when calculating the gradient.\n",
    "    color: Let algorithm modify initial colors.\n",
    "    \"\"\"\n",
    "\n",
    "    # Downsample\n",
    "    if num_repeats>0:\n",
    "        # Blur the input image to prevent artifacts when downscaling.\n",
    "        # sigma - blur amount (the colour-channel is not blurred \n",
    "        # as it would make the image gray.\n",
    "        sigma = 0.5\n",
    "        img_blur = gaussian_filter(image, sigma=(sigma, sigma, 0.0))\n",
    "\n",
    "        # Downscale the image.\n",
    "        img_downscaled = utility.resize_image(image=img_blur,\n",
    "                                      factor=rescale_factor)\n",
    "            \n",
    "        # Recursive call to this function.\n",
    "        # Subtract one from num_repeats and use the downscaled image.\n",
    "        img_result = recursive_optimize(layer_tensor=layer_tensor,\n",
    "                                        image=img_downscaled,\n",
    "                                        num_repeats=num_repeats-1,\n",
    "                                        rescale_factor=rescale_factor,\n",
    "                                        blend=blend,\n",
    "                                        num_iterations=num_iterations,\n",
    "                                        step_size=step_size,\n",
    "                                        tile_size=tile_size, color=color)\n",
    "        \n",
    "        # Upscale the resulting image back to its original size.\n",
    "        img_upscaled = utility.resize_image(image=img_result, size=image.shape)\n",
    "\n",
    "        # Blend the original and processed images.\n",
    "        image = blend * image + (1.0 - blend) * img_upscaled\n",
    "\n",
    "    print(\"Recursive level:\", num_repeats)\n",
    "\n",
    "    # Process the image using the DeepDream algorithm.\n",
    "    img_result = gradient_ascent(layer_tensor=layer_tensor,\n",
    "                                image=image,\n",
    "                                num_iterations=num_iterations,\n",
    "                                step_size=step_size,\n",
    "                                tile_size=tile_size, color=color)\n",
    "    \n",
    "    return img_result"
   ]
  },
  {
   "cell_type": "markdown",
   "metadata": {},
   "source": [
    "## TensorFlow Session"
   ]
  },
  {
   "cell_type": "markdown",
   "metadata": {},
   "source": [
    "An interactive TensorFlow session is used to execute and to continue adding gradient functions to the computational graph."
   ]
  },
  {
   "cell_type": "code",
   "execution_count": null,
   "metadata": {},
   "outputs": [],
   "source": [
    "session = tf.InteractiveSession(graph=model.graph)"
   ]
  },
  {
   "cell_type": "markdown",
   "metadata": {},
   "source": [
    "## Flower Bloom"
   ]
  },
  {
   "cell_type": "markdown",
   "metadata": {},
   "source": [
    "The algorithm is applied to an image of a flower bloom."
   ]
  },
  {
   "cell_type": "code",
   "execution_count": null,
   "metadata": {},
   "outputs": [],
   "source": [
    "image = utility.load_image(filename='images/borrego.jpg')\n",
    "utility.plot_image(image)"
   ]
  },
  {
   "cell_type": "markdown",
   "metadata": {},
   "source": [
    "Choose a layer to maximize certain features. The 3rd layer was chosen here (index 2). It has 192 channels whose values can be maximized."
   ]
  },
  {
   "cell_type": "code",
   "execution_count": null,
   "metadata": {
    "scrolled": true
   },
   "outputs": [],
   "source": [
    "layer_tensor = model.layer_tensors[2]\n",
    "layer_tensor"
   ]
  },
  {
   "cell_type": "markdown",
   "metadata": {},
   "source": [
    "Run the gradient ascent algorithm and show the gradient for each iteration. Note the visible artifacts in the seams between the tiles."
   ]
  },
  {
   "cell_type": "code",
   "execution_count": null,
   "metadata": {},
   "outputs": [],
   "source": [
    "img_result = gradient_ascent(layer_tensor, image,\n",
    "                   num_iterations=15, step_size=6.0, tile_size=800,\n",
    "                   show_gradient=False)"
   ]
  },
  {
   "cell_type": "markdown",
   "metadata": {},
   "source": [
    "Save the resulting image."
   ]
  },
  {
   "cell_type": "code",
   "execution_count": null,
   "metadata": {},
   "outputs": [],
   "source": [
    "utility.save_image(img_result, filename='results/gradient_ascent_l3_num-it15_step-size6_borrego.jpg')"
   ]
  },
  {
   "cell_type": "markdown",
   "metadata": {},
   "source": [
    "Run the `recursive_optimize()` function. This will create an image with larger patterns. The reason is that the patterns were initially created on a heavily downsampled image and then refined on the higher resolution images."
   ]
  },
  {
   "cell_type": "code",
   "execution_count": null,
   "metadata": {
    "scrolled": true
   },
   "outputs": [],
   "source": [
    "img_result = recursive_optimize(layer_tensor=layer_tensor, image=image,\n",
    "                 num_iterations=10, step_size=3.0, rescale_factor=0.6,\n",
    "                 num_repeats=5, blend=0.2)"
   ]
  },
  {
   "cell_type": "code",
   "execution_count": null,
   "metadata": {},
   "outputs": [],
   "source": [
    "utility.save_image(img_result, filename='results/octaves_l3_num-it10_step-size3_rescale0-6_num-repeats5_blend0-2_borrego.jpg')"
   ]
  },
  {
   "cell_type": "markdown",
   "metadata": {},
   "source": [
    "Choose another layer to maximize, for example layer 7 (index 6). This layer recognizes more complex shapes in the input image."
   ]
  },
  {
   "cell_type": "code",
   "execution_count": null,
   "metadata": {},
   "outputs": [],
   "source": [
    "layer_tensor = model.layer_tensors[6]\n",
    "img_result = recursive_optimize(layer_tensor=layer_tensor, image=image,\n",
    "                 num_iterations=10, step_size=4.0, rescale_factor=0.5,\n",
    "                 num_repeats=4, blend=0.2)"
   ]
  },
  {
   "cell_type": "code",
   "execution_count": null,
   "metadata": {},
   "outputs": [],
   "source": [
    "utility.save_image(img_result, filename='results/octaves_l7_num-it10_step-size4_rescale0-5_num-repeats4_blend0-2_borrego.jpg')"
   ]
  },
  {
   "cell_type": "markdown",
   "metadata": {},
   "source": [
    "One can also maximize only a subset of a layer's feature-channels. For example, layer with index 7 and only its first 5 feature-channels."
   ]
  },
  {
   "cell_type": "code",
   "execution_count": null,
   "metadata": {},
   "outputs": [],
   "source": [
    "layer_tensor = model.layer_tensors[7]\n",
    "layer_tensor"
   ]
  },
  {
   "cell_type": "code",
   "execution_count": null,
   "metadata": {},
   "outputs": [],
   "source": [
    "layer_tensor = model.layer_tensors[7][:,:,:,0:5]\n",
    "img_result = recursive_optimize(layer_tensor=layer_tensor, image=image,\n",
    "                 num_iterations=10, step_size=3.0, rescale_factor=0.7,\n",
    "                 num_repeats=4, blend=0.2)"
   ]
  },
  {
   "cell_type": "code",
   "execution_count": null,
   "metadata": {},
   "outputs": [],
   "source": [
    "utility.save_image(img_result, filename='results/octaves_l8_c0-5_num-it10_step-size3_rescale0-7_num-repeats4_blend0-2_borrego.jpg')"
   ]
  },
  {
   "cell_type": "markdown",
   "metadata": {},
   "source": [
    "Maximize the final layer."
   ]
  },
  {
   "cell_type": "code",
   "execution_count": null,
   "metadata": {},
   "outputs": [],
   "source": [
    "layer_tensor = model.layer_tensors[11]\n",
    "img_result = recursive_optimize(layer_tensor=layer_tensor, image=image,\n",
    "                 num_iterations=10, step_size=3.0, rescale_factor=0.5,\n",
    "                 num_repeats=4, blend=0.2)"
   ]
  },
  {
   "cell_type": "code",
   "execution_count": null,
   "metadata": {},
   "outputs": [],
   "source": [
    "utility.save_image(img_result, filename='results/octaves_l12_num-it10_step-size3_rescale0-5_num-repeats4_blend0-2_borrego.jpg')"
   ]
  },
  {
   "cell_type": "markdown",
   "metadata": {},
   "source": [
    "The algorithm is optimized in such a way as to mostly keep the original image's colours. This is done by applying gaussian filters to the colour channels of the tiled images gradient. However, the algorithm can 'dream' colours as well and deviate from the original by not applying the filter to the channels as well. This can be easily done by setting the colour parameter to true as seen below."
   ]
  },
  {
   "cell_type": "code",
   "execution_count": null,
   "metadata": {},
   "outputs": [],
   "source": [
    "layer_tensor = model.layer_tensors[11]\n",
    "layer_tensor"
   ]
  },
  {
   "cell_type": "code",
   "execution_count": null,
   "metadata": {},
   "outputs": [],
   "source": [
    "layer_tensor = model.layer_tensors[11][:,:,:,120:125]\n",
    "img_result = recursive_optimize(layer_tensor=layer_tensor, image=image,\n",
    "                 num_iterations=10, step_size=6.0, rescale_factor=0.7,\n",
    "                 num_repeats=5, blend=0.2, color=True)"
   ]
  },
  {
   "cell_type": "code",
   "execution_count": null,
   "metadata": {},
   "outputs": [],
   "source": [
    "utility.save_image(img_result, filename='results/octaves_l12_c120-125_num-it10_step-size6_rescale0-7_num-repeats5_blend0-2_color_borrego.jpg')"
   ]
  },
  {
   "cell_type": "markdown",
   "metadata": {},
   "source": [
    "## Close TensorFlow Session\n",
    "\n",
    "Close the session to release its resources."
   ]
  },
  {
   "cell_type": "code",
   "execution_count": null,
   "metadata": {},
   "outputs": [],
   "source": [
    "session.close()"
   ]
  }
 ],
 "metadata": {
  "anaconda-cloud": {},
  "kernelspec": {
   "display_name": "tf1",
   "language": "python",
   "name": "tf1"
  },
  "language_info": {
   "codemirror_mode": {
    "name": "ipython",
    "version": 3
   },
   "file_extension": ".py",
   "mimetype": "text/x-python",
   "name": "python",
   "nbconvert_exporter": "python",
   "pygments_lexer": "ipython3",
   "version": "3.5.6"
  }
 },
 "nbformat": 4,
 "nbformat_minor": 1
}
